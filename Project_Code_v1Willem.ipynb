{
 "cells": [
  {
   "cell_type": "raw",
   "id": "33dd6c4c",
   "metadata": {},
   "source": [
    "---\n",
    "title: \"Project Code\"\n",
    "subtitle: Team name\n",
    "author: Author 1, Author 2, Author 3, and Author 4 \n",
    "date: 02/27/2023\n",
    "number-sections: true\n",
    "abstract: _This file contains the code for the project on <>, as part of the STAT303-2 course in Winter 2023_.\n",
    "format: \n",
    "  html:\n",
    "    toc: true\n",
    "    toc-title: Contents\n",
    "    self-contained: true\n",
    "    font-size: 100%\n",
    "    toc-depth: 4\n",
    "    mainfont: serif\n",
    "jupyter: python3\n",
    "---"
   ]
  },
  {
   "cell_type": "code",
   "execution_count": 13,
   "id": "82de70ef-a767-4275-8960-b28266d46180",
   "metadata": {},
   "outputs": [],
   "source": [
    "import numpy as np\n",
    "import pandas as pd\n",
    "import seaborn as sns\n",
    "import matplotlib.pyplot as plt\n",
    "import statsmodels.api as sm\n",
    "import statsmodels.formula.api as smf\n",
    "from sklearn.linear_model import Ridge, RidgeCV, Lasso, LassoCV, LogisticRegression\n",
    "from sklearn.preprocessing import StandardScaler \n",
    "from sklearn.metrics import r2_score\n",
    "from statsmodels.stats.outliers_influence import variance_inflation_factor\n",
    "from sklearn.metrics import confusion_matrix, classification_report\n",
    "from sklearn.model_selection import cross_val_score,  train_test_split, KFold\n",
    "from scipy import stats\n",
    "from statsmodels.stats.outliers_influence import variance_inflation_factor\n",
    "from statsmodels.tools.tools import add_constant\n",
    "import itertools \n",
    "import time \n",
    "import warnings"
   ]
  },
  {
   "cell_type": "markdown",
   "id": "aba5ee91",
   "metadata": {},
   "source": [
    "## Length of the code {-}\n",
    "No restriction\n",
    "\n",
    "**Delete this section from the report, when using this template.** "
   ]
  },
  {
   "cell_type": "markdown",
   "id": "fe7ea9bb",
   "metadata": {},
   "source": [
    "## Data quality check / cleaning / preparation \n",
    "\n",
    "Put code with comments. The comments should explain the code such that it can be easily understood. You may put text *(in a markdown cell)* before a large chunk of code to explain the overall purpose of the code, if it is not intuitive. **Put the name of the person / persons who contributed to each code chunk / set of code chunks.** An example is given below."
   ]
  },
  {
   "cell_type": "markdown",
   "id": "db149d8b",
   "metadata": {},
   "source": [
    "### Data quality check\n",
    "*By Ryan Payne*"
   ]
  },
  {
   "cell_type": "markdown",
   "id": "fbc82e7f",
   "metadata": {},
   "source": [
    "The code below visualizes the distribution of all the variables in the dataset, and their association with the response."
   ]
  },
  {
   "cell_type": "code",
   "execution_count": 19,
   "id": "5955618d",
   "metadata": {},
   "outputs": [],
   "source": [
    "#...Distribution of continuous variables...#"
   ]
  },
  {
   "cell_type": "code",
   "execution_count": 20,
   "id": "8faafdbf",
   "metadata": {},
   "outputs": [],
   "source": [
    "#...Distribution of categorical variables...#"
   ]
  },
  {
   "cell_type": "code",
   "execution_count": 21,
   "id": "e389f4ef",
   "metadata": {},
   "outputs": [],
   "source": [
    "#...Association of the response with the predictors...#"
   ]
  },
  {
   "cell_type": "markdown",
   "id": "d1561829",
   "metadata": {
    "tags": []
   },
   "source": [
    "### Data cleaning\n",
    "*By Ryan Payne*\n",
    "\n",
    "From the data quality check we realized that:\n",
    "\n",
    "1. The data did not have a discplined response column and so we had to construct it from the observations in \"final_outcome\".\n",
    "2. The data came in seperate csv files. For example, a csv file containing roster information, regional demographics, officer salaries, victim information and more. We needed to decide which of these csv files to use. We ended up deciding (based on missing data criteria) that'd we'd focus on only those data pertaining to the officers and not victims. These datasets needed to be merged with one another on the officer's unique ID numner.\n",
    "3. The final_outcome column had double entries: once in lower case and once in upper case that needed to be combined. \n",
    "4. In general, there were lots of formatting issues that needed to be resolved. \n",
    "5. There were cateogries with very few (less than 0.01%) instances that needed to be either removed or consolidated. For example, we consolidated all gang related units in unit_description into one unit category. \n"
   ]
  },
  {
   "cell_type": "markdown",
   "id": "0e90f899-a802-4fc5-8926-c828d83ef97b",
   "metadata": {},
   "source": [
    "The data came in three seperate csv files that needed to be merged and cleaned before we could begin our ananlysis. These three seperate files contained information on (1) the accused police officers (their unit, age, etc.) (2) salary information and (3) other roster information. The below cells walk through how these three files were combined and cleaned to create our final dataset."
   ]
  },
  {
   "cell_type": "markdown",
   "id": "b8851527-f53b-4fc0-aabf-c08f96db4bf0",
   "metadata": {},
   "source": [
    "## Accused Data"
   ]
  },
  {
   "cell_type": "code",
   "execution_count": 5,
   "id": "46f73626",
   "metadata": {},
   "outputs": [
    {
     "ename": "FileNotFoundError",
     "evalue": "[Errno 2] No such file or directory: './project_data_unified/complaints/complaints-accused.csv'",
     "output_type": "error",
     "traceback": [
      "\u001b[0;31m---------------------------------------------------------------------------\u001b[0m",
      "\u001b[0;31mFileNotFoundError\u001b[0m                         Traceback (most recent call last)",
      "Input \u001b[0;32mIn [5]\u001b[0m, in \u001b[0;36m<cell line: 2>\u001b[0;34m()\u001b[0m\n\u001b[1;32m      1\u001b[0m \u001b[38;5;66;03m# ACCUSED DATA \u001b[39;00m\n\u001b[0;32m----> 2\u001b[0m accused_df \u001b[38;5;241m=\u001b[39m \u001b[43mpd\u001b[49m\u001b[38;5;241;43m.\u001b[39;49m\u001b[43mread_csv\u001b[49m\u001b[43m(\u001b[49m\u001b[38;5;124;43m'\u001b[39;49m\u001b[38;5;124;43m./project_data_unified/complaints/complaints-accused.csv\u001b[39;49m\u001b[38;5;124;43m'\u001b[39;49m\u001b[43m)\u001b[49m\n\u001b[1;32m      4\u001b[0m \u001b[38;5;66;03m# Remove rows for which final_outcome = NaN\u001b[39;00m\n\u001b[1;32m      5\u001b[0m accused_df \u001b[38;5;241m=\u001b[39m accused_df\u001b[38;5;241m.\u001b[39mdropna(subset\u001b[38;5;241m=\u001b[39m[\u001b[38;5;124m'\u001b[39m\u001b[38;5;124mfinal_outcome\u001b[39m\u001b[38;5;124m'\u001b[39m])\n",
      "File \u001b[0;32m~/opt/anaconda3/lib/python3.9/site-packages/pandas/util/_decorators.py:311\u001b[0m, in \u001b[0;36mdeprecate_nonkeyword_arguments.<locals>.decorate.<locals>.wrapper\u001b[0;34m(*args, **kwargs)\u001b[0m\n\u001b[1;32m    305\u001b[0m \u001b[38;5;28;01mif\u001b[39;00m \u001b[38;5;28mlen\u001b[39m(args) \u001b[38;5;241m>\u001b[39m num_allow_args:\n\u001b[1;32m    306\u001b[0m     warnings\u001b[38;5;241m.\u001b[39mwarn(\n\u001b[1;32m    307\u001b[0m         msg\u001b[38;5;241m.\u001b[39mformat(arguments\u001b[38;5;241m=\u001b[39marguments),\n\u001b[1;32m    308\u001b[0m         \u001b[38;5;167;01mFutureWarning\u001b[39;00m,\n\u001b[1;32m    309\u001b[0m         stacklevel\u001b[38;5;241m=\u001b[39mstacklevel,\n\u001b[1;32m    310\u001b[0m     )\n\u001b[0;32m--> 311\u001b[0m \u001b[38;5;28;01mreturn\u001b[39;00m \u001b[43mfunc\u001b[49m\u001b[43m(\u001b[49m\u001b[38;5;241;43m*\u001b[39;49m\u001b[43margs\u001b[49m\u001b[43m,\u001b[49m\u001b[43m \u001b[49m\u001b[38;5;241;43m*\u001b[39;49m\u001b[38;5;241;43m*\u001b[39;49m\u001b[43mkwargs\u001b[49m\u001b[43m)\u001b[49m\n",
      "File \u001b[0;32m~/opt/anaconda3/lib/python3.9/site-packages/pandas/io/parsers/readers.py:680\u001b[0m, in \u001b[0;36mread_csv\u001b[0;34m(filepath_or_buffer, sep, delimiter, header, names, index_col, usecols, squeeze, prefix, mangle_dupe_cols, dtype, engine, converters, true_values, false_values, skipinitialspace, skiprows, skipfooter, nrows, na_values, keep_default_na, na_filter, verbose, skip_blank_lines, parse_dates, infer_datetime_format, keep_date_col, date_parser, dayfirst, cache_dates, iterator, chunksize, compression, thousands, decimal, lineterminator, quotechar, quoting, doublequote, escapechar, comment, encoding, encoding_errors, dialect, error_bad_lines, warn_bad_lines, on_bad_lines, delim_whitespace, low_memory, memory_map, float_precision, storage_options)\u001b[0m\n\u001b[1;32m    665\u001b[0m kwds_defaults \u001b[38;5;241m=\u001b[39m _refine_defaults_read(\n\u001b[1;32m    666\u001b[0m     dialect,\n\u001b[1;32m    667\u001b[0m     delimiter,\n\u001b[0;32m   (...)\u001b[0m\n\u001b[1;32m    676\u001b[0m     defaults\u001b[38;5;241m=\u001b[39m{\u001b[38;5;124m\"\u001b[39m\u001b[38;5;124mdelimiter\u001b[39m\u001b[38;5;124m\"\u001b[39m: \u001b[38;5;124m\"\u001b[39m\u001b[38;5;124m,\u001b[39m\u001b[38;5;124m\"\u001b[39m},\n\u001b[1;32m    677\u001b[0m )\n\u001b[1;32m    678\u001b[0m kwds\u001b[38;5;241m.\u001b[39mupdate(kwds_defaults)\n\u001b[0;32m--> 680\u001b[0m \u001b[38;5;28;01mreturn\u001b[39;00m \u001b[43m_read\u001b[49m\u001b[43m(\u001b[49m\u001b[43mfilepath_or_buffer\u001b[49m\u001b[43m,\u001b[49m\u001b[43m \u001b[49m\u001b[43mkwds\u001b[49m\u001b[43m)\u001b[49m\n",
      "File \u001b[0;32m~/opt/anaconda3/lib/python3.9/site-packages/pandas/io/parsers/readers.py:575\u001b[0m, in \u001b[0;36m_read\u001b[0;34m(filepath_or_buffer, kwds)\u001b[0m\n\u001b[1;32m    572\u001b[0m _validate_names(kwds\u001b[38;5;241m.\u001b[39mget(\u001b[38;5;124m\"\u001b[39m\u001b[38;5;124mnames\u001b[39m\u001b[38;5;124m\"\u001b[39m, \u001b[38;5;28;01mNone\u001b[39;00m))\n\u001b[1;32m    574\u001b[0m \u001b[38;5;66;03m# Create the parser.\u001b[39;00m\n\u001b[0;32m--> 575\u001b[0m parser \u001b[38;5;241m=\u001b[39m \u001b[43mTextFileReader\u001b[49m\u001b[43m(\u001b[49m\u001b[43mfilepath_or_buffer\u001b[49m\u001b[43m,\u001b[49m\u001b[43m \u001b[49m\u001b[38;5;241;43m*\u001b[39;49m\u001b[38;5;241;43m*\u001b[39;49m\u001b[43mkwds\u001b[49m\u001b[43m)\u001b[49m\n\u001b[1;32m    577\u001b[0m \u001b[38;5;28;01mif\u001b[39;00m chunksize \u001b[38;5;129;01mor\u001b[39;00m iterator:\n\u001b[1;32m    578\u001b[0m     \u001b[38;5;28;01mreturn\u001b[39;00m parser\n",
      "File \u001b[0;32m~/opt/anaconda3/lib/python3.9/site-packages/pandas/io/parsers/readers.py:933\u001b[0m, in \u001b[0;36mTextFileReader.__init__\u001b[0;34m(self, f, engine, **kwds)\u001b[0m\n\u001b[1;32m    930\u001b[0m     \u001b[38;5;28mself\u001b[39m\u001b[38;5;241m.\u001b[39moptions[\u001b[38;5;124m\"\u001b[39m\u001b[38;5;124mhas_index_names\u001b[39m\u001b[38;5;124m\"\u001b[39m] \u001b[38;5;241m=\u001b[39m kwds[\u001b[38;5;124m\"\u001b[39m\u001b[38;5;124mhas_index_names\u001b[39m\u001b[38;5;124m\"\u001b[39m]\n\u001b[1;32m    932\u001b[0m \u001b[38;5;28mself\u001b[39m\u001b[38;5;241m.\u001b[39mhandles: IOHandles \u001b[38;5;241m|\u001b[39m \u001b[38;5;28;01mNone\u001b[39;00m \u001b[38;5;241m=\u001b[39m \u001b[38;5;28;01mNone\u001b[39;00m\n\u001b[0;32m--> 933\u001b[0m \u001b[38;5;28mself\u001b[39m\u001b[38;5;241m.\u001b[39m_engine \u001b[38;5;241m=\u001b[39m \u001b[38;5;28;43mself\u001b[39;49m\u001b[38;5;241;43m.\u001b[39;49m\u001b[43m_make_engine\u001b[49m\u001b[43m(\u001b[49m\u001b[43mf\u001b[49m\u001b[43m,\u001b[49m\u001b[43m \u001b[49m\u001b[38;5;28;43mself\u001b[39;49m\u001b[38;5;241;43m.\u001b[39;49m\u001b[43mengine\u001b[49m\u001b[43m)\u001b[49m\n",
      "File \u001b[0;32m~/opt/anaconda3/lib/python3.9/site-packages/pandas/io/parsers/readers.py:1217\u001b[0m, in \u001b[0;36mTextFileReader._make_engine\u001b[0;34m(self, f, engine)\u001b[0m\n\u001b[1;32m   1213\u001b[0m     mode \u001b[38;5;241m=\u001b[39m \u001b[38;5;124m\"\u001b[39m\u001b[38;5;124mrb\u001b[39m\u001b[38;5;124m\"\u001b[39m\n\u001b[1;32m   1214\u001b[0m \u001b[38;5;66;03m# error: No overload variant of \"get_handle\" matches argument types\u001b[39;00m\n\u001b[1;32m   1215\u001b[0m \u001b[38;5;66;03m# \"Union[str, PathLike[str], ReadCsvBuffer[bytes], ReadCsvBuffer[str]]\"\u001b[39;00m\n\u001b[1;32m   1216\u001b[0m \u001b[38;5;66;03m# , \"str\", \"bool\", \"Any\", \"Any\", \"Any\", \"Any\", \"Any\"\u001b[39;00m\n\u001b[0;32m-> 1217\u001b[0m \u001b[38;5;28mself\u001b[39m\u001b[38;5;241m.\u001b[39mhandles \u001b[38;5;241m=\u001b[39m \u001b[43mget_handle\u001b[49m\u001b[43m(\u001b[49m\u001b[43m  \u001b[49m\u001b[38;5;66;43;03m# type: ignore[call-overload]\u001b[39;49;00m\n\u001b[1;32m   1218\u001b[0m \u001b[43m    \u001b[49m\u001b[43mf\u001b[49m\u001b[43m,\u001b[49m\n\u001b[1;32m   1219\u001b[0m \u001b[43m    \u001b[49m\u001b[43mmode\u001b[49m\u001b[43m,\u001b[49m\n\u001b[1;32m   1220\u001b[0m \u001b[43m    \u001b[49m\u001b[43mencoding\u001b[49m\u001b[38;5;241;43m=\u001b[39;49m\u001b[38;5;28;43mself\u001b[39;49m\u001b[38;5;241;43m.\u001b[39;49m\u001b[43moptions\u001b[49m\u001b[38;5;241;43m.\u001b[39;49m\u001b[43mget\u001b[49m\u001b[43m(\u001b[49m\u001b[38;5;124;43m\"\u001b[39;49m\u001b[38;5;124;43mencoding\u001b[39;49m\u001b[38;5;124;43m\"\u001b[39;49m\u001b[43m,\u001b[49m\u001b[43m \u001b[49m\u001b[38;5;28;43;01mNone\u001b[39;49;00m\u001b[43m)\u001b[49m\u001b[43m,\u001b[49m\n\u001b[1;32m   1221\u001b[0m \u001b[43m    \u001b[49m\u001b[43mcompression\u001b[49m\u001b[38;5;241;43m=\u001b[39;49m\u001b[38;5;28;43mself\u001b[39;49m\u001b[38;5;241;43m.\u001b[39;49m\u001b[43moptions\u001b[49m\u001b[38;5;241;43m.\u001b[39;49m\u001b[43mget\u001b[49m\u001b[43m(\u001b[49m\u001b[38;5;124;43m\"\u001b[39;49m\u001b[38;5;124;43mcompression\u001b[39;49m\u001b[38;5;124;43m\"\u001b[39;49m\u001b[43m,\u001b[49m\u001b[43m \u001b[49m\u001b[38;5;28;43;01mNone\u001b[39;49;00m\u001b[43m)\u001b[49m\u001b[43m,\u001b[49m\n\u001b[1;32m   1222\u001b[0m \u001b[43m    \u001b[49m\u001b[43mmemory_map\u001b[49m\u001b[38;5;241;43m=\u001b[39;49m\u001b[38;5;28;43mself\u001b[39;49m\u001b[38;5;241;43m.\u001b[39;49m\u001b[43moptions\u001b[49m\u001b[38;5;241;43m.\u001b[39;49m\u001b[43mget\u001b[49m\u001b[43m(\u001b[49m\u001b[38;5;124;43m\"\u001b[39;49m\u001b[38;5;124;43mmemory_map\u001b[39;49m\u001b[38;5;124;43m\"\u001b[39;49m\u001b[43m,\u001b[49m\u001b[43m \u001b[49m\u001b[38;5;28;43;01mFalse\u001b[39;49;00m\u001b[43m)\u001b[49m\u001b[43m,\u001b[49m\n\u001b[1;32m   1223\u001b[0m \u001b[43m    \u001b[49m\u001b[43mis_text\u001b[49m\u001b[38;5;241;43m=\u001b[39;49m\u001b[43mis_text\u001b[49m\u001b[43m,\u001b[49m\n\u001b[1;32m   1224\u001b[0m \u001b[43m    \u001b[49m\u001b[43merrors\u001b[49m\u001b[38;5;241;43m=\u001b[39;49m\u001b[38;5;28;43mself\u001b[39;49m\u001b[38;5;241;43m.\u001b[39;49m\u001b[43moptions\u001b[49m\u001b[38;5;241;43m.\u001b[39;49m\u001b[43mget\u001b[49m\u001b[43m(\u001b[49m\u001b[38;5;124;43m\"\u001b[39;49m\u001b[38;5;124;43mencoding_errors\u001b[39;49m\u001b[38;5;124;43m\"\u001b[39;49m\u001b[43m,\u001b[49m\u001b[43m \u001b[49m\u001b[38;5;124;43m\"\u001b[39;49m\u001b[38;5;124;43mstrict\u001b[39;49m\u001b[38;5;124;43m\"\u001b[39;49m\u001b[43m)\u001b[49m\u001b[43m,\u001b[49m\n\u001b[1;32m   1225\u001b[0m \u001b[43m    \u001b[49m\u001b[43mstorage_options\u001b[49m\u001b[38;5;241;43m=\u001b[39;49m\u001b[38;5;28;43mself\u001b[39;49m\u001b[38;5;241;43m.\u001b[39;49m\u001b[43moptions\u001b[49m\u001b[38;5;241;43m.\u001b[39;49m\u001b[43mget\u001b[49m\u001b[43m(\u001b[49m\u001b[38;5;124;43m\"\u001b[39;49m\u001b[38;5;124;43mstorage_options\u001b[39;49m\u001b[38;5;124;43m\"\u001b[39;49m\u001b[43m,\u001b[49m\u001b[43m \u001b[49m\u001b[38;5;28;43;01mNone\u001b[39;49;00m\u001b[43m)\u001b[49m\u001b[43m,\u001b[49m\n\u001b[1;32m   1226\u001b[0m \u001b[43m\u001b[49m\u001b[43m)\u001b[49m\n\u001b[1;32m   1227\u001b[0m \u001b[38;5;28;01massert\u001b[39;00m \u001b[38;5;28mself\u001b[39m\u001b[38;5;241m.\u001b[39mhandles \u001b[38;5;129;01mis\u001b[39;00m \u001b[38;5;129;01mnot\u001b[39;00m \u001b[38;5;28;01mNone\u001b[39;00m\n\u001b[1;32m   1228\u001b[0m f \u001b[38;5;241m=\u001b[39m \u001b[38;5;28mself\u001b[39m\u001b[38;5;241m.\u001b[39mhandles\u001b[38;5;241m.\u001b[39mhandle\n",
      "File \u001b[0;32m~/opt/anaconda3/lib/python3.9/site-packages/pandas/io/common.py:789\u001b[0m, in \u001b[0;36mget_handle\u001b[0;34m(path_or_buf, mode, encoding, compression, memory_map, is_text, errors, storage_options)\u001b[0m\n\u001b[1;32m    784\u001b[0m \u001b[38;5;28;01melif\u001b[39;00m \u001b[38;5;28misinstance\u001b[39m(handle, \u001b[38;5;28mstr\u001b[39m):\n\u001b[1;32m    785\u001b[0m     \u001b[38;5;66;03m# Check whether the filename is to be opened in binary mode.\u001b[39;00m\n\u001b[1;32m    786\u001b[0m     \u001b[38;5;66;03m# Binary mode does not support 'encoding' and 'newline'.\u001b[39;00m\n\u001b[1;32m    787\u001b[0m     \u001b[38;5;28;01mif\u001b[39;00m ioargs\u001b[38;5;241m.\u001b[39mencoding \u001b[38;5;129;01mand\u001b[39;00m \u001b[38;5;124m\"\u001b[39m\u001b[38;5;124mb\u001b[39m\u001b[38;5;124m\"\u001b[39m \u001b[38;5;129;01mnot\u001b[39;00m \u001b[38;5;129;01min\u001b[39;00m ioargs\u001b[38;5;241m.\u001b[39mmode:\n\u001b[1;32m    788\u001b[0m         \u001b[38;5;66;03m# Encoding\u001b[39;00m\n\u001b[0;32m--> 789\u001b[0m         handle \u001b[38;5;241m=\u001b[39m \u001b[38;5;28;43mopen\u001b[39;49m\u001b[43m(\u001b[49m\n\u001b[1;32m    790\u001b[0m \u001b[43m            \u001b[49m\u001b[43mhandle\u001b[49m\u001b[43m,\u001b[49m\n\u001b[1;32m    791\u001b[0m \u001b[43m            \u001b[49m\u001b[43mioargs\u001b[49m\u001b[38;5;241;43m.\u001b[39;49m\u001b[43mmode\u001b[49m\u001b[43m,\u001b[49m\n\u001b[1;32m    792\u001b[0m \u001b[43m            \u001b[49m\u001b[43mencoding\u001b[49m\u001b[38;5;241;43m=\u001b[39;49m\u001b[43mioargs\u001b[49m\u001b[38;5;241;43m.\u001b[39;49m\u001b[43mencoding\u001b[49m\u001b[43m,\u001b[49m\n\u001b[1;32m    793\u001b[0m \u001b[43m            \u001b[49m\u001b[43merrors\u001b[49m\u001b[38;5;241;43m=\u001b[39;49m\u001b[43merrors\u001b[49m\u001b[43m,\u001b[49m\n\u001b[1;32m    794\u001b[0m \u001b[43m            \u001b[49m\u001b[43mnewline\u001b[49m\u001b[38;5;241;43m=\u001b[39;49m\u001b[38;5;124;43m\"\u001b[39;49m\u001b[38;5;124;43m\"\u001b[39;49m\u001b[43m,\u001b[49m\n\u001b[1;32m    795\u001b[0m \u001b[43m        \u001b[49m\u001b[43m)\u001b[49m\n\u001b[1;32m    796\u001b[0m     \u001b[38;5;28;01melse\u001b[39;00m:\n\u001b[1;32m    797\u001b[0m         \u001b[38;5;66;03m# Binary mode\u001b[39;00m\n\u001b[1;32m    798\u001b[0m         handle \u001b[38;5;241m=\u001b[39m \u001b[38;5;28mopen\u001b[39m(handle, ioargs\u001b[38;5;241m.\u001b[39mmode)\n",
      "\u001b[0;31mFileNotFoundError\u001b[0m: [Errno 2] No such file or directory: './project_data_unified/complaints/complaints-accused.csv'"
     ]
    }
   ],
   "source": [
    "# ACCUSED DATA \n",
    "accused_df = pd.read_csv('./project_data_unified/complaints/complaints-accused.csv')\n",
    "\n",
    "# Remove rows for which final_outcome = NaN\n",
    "accused_df = accused_df.dropna(subset=['final_outcome'])\n",
    "# Remove rows for which final_outcome = \"Unknown\" (pretty much same thing as NaN)\n",
    "accused_df = accused_df.loc[accused_df['final_outcome'] != 'Unknown']\n",
    "# Rename complaint_category as complaint_description, per reference data\n",
    "accused_df = accused_df.rename(columns={'complaint_category':'complaint_descr'})\n",
    "# Drop reccommended finding and outcome bacause (a) >50% NaN and (b) mostly redundant\n",
    "accused_df = accused_df.drop(columns={'recc_finding', 'recc_outcome'})\n",
    "\n",
    "\n",
    "# Combine like values  \n",
    "accused_df['final_outcome'] = accused_df['final_outcome'].astype(str)\n",
    "accused_df['final_outcome'] = accused_df['final_outcome'].apply(lambda x: x.replace('NO ACTION TAKEN', 'No Action Taken'))\n",
    "accused_df['final_outcome'] = accused_df['final_outcome'].apply(lambda x: x.replace('**PENALTY NOT SERVED', 'Penalty Not Served'))\n",
    "accused_df['final_outcome'] = accused_df['final_outcome'].apply(lambda x: x.replace('REPRIMAND', 'Reprimand'))\n",
    "accused_df['final_outcome'] = accused_df['final_outcome'].apply(lambda x: x.replace('SEPARATION', 'Separation'))\n",
    "accused_df['final_outcome'] = accused_df['final_outcome'].apply(lambda x: x.replace('REINSTATED COURT ACT', 'Reinstated by Court Action'))\n",
    "accused_df['final_outcome'] = accused_df['final_outcome'].apply(lambda x: x.replace('RESIGNED -NOT SERVED', 'Resigned'))\n",
    "accused_df['final_outcome'] = accused_df['final_outcome'].apply(lambda x: x.replace('REINSTATED POLICE BD', 'Reinstated by Police Board'))\n",
    "\n",
    "\n",
    "# treat '15 Day Suspension' same as '15 DAY SUSPENSION', for each #-day combination \n",
    "import re \n",
    "accused_df['final_outcome'] = accused_df['final_outcome'].astype(str)\n",
    "\n",
    "def standardize_case(s):  \n",
    "    # Check if the string contains a number\n",
    "    if any(char.isdigit() for char in s):\n",
    "        # Extract the numeric part of the string using regular expressions\n",
    "        num_str = re.findall(r'\\d+', s)[0]\n",
    "        # Use regular expressions to replace the text part with a lowercased version\n",
    "        text = re.sub(r'[a-zA-Z]+', lambda m: m.group(0).lower(), s.replace(num_str, ''))\n",
    "        # Combine the standardized text and numeric parts of the string\n",
    "        return num_str + ' ' + text.strip()\n",
    "    else:\n",
    "        return s\n",
    "\n",
    "# Update final_outcome \n",
    "accused_df['final_outcome'] = accused_df['final_outcome'].apply(standardize_case)"
   ]
  },
  {
   "cell_type": "markdown",
   "id": "92c08b57-272c-4151-8c44-44d71821142d",
   "metadata": {},
   "source": [
    "Next, we needed to create our response variable (disciplined = 1 or discplined = 0) from the categories in \"final outcome.\" We decided not to treat \"Reprimand\" as a form of discpline, since it often used as a token punishment. Importantly for the data, however, reprimands make up the majority of discplinary actions. It's removal, therefore, reduces the number of positive responses (discplined = 1) quite substantially."
   ]
  },
  {
   "cell_type": "code",
   "execution_count": 23,
   "id": "d0a8923f-d279-4a8f-b680-9c8e07940358",
   "metadata": {},
   "outputs": [],
   "source": [
    "# Filter out all the final_outcomes that DON'T count as discpline\n",
    "disc_outcomes = accused_df['final_outcome'].value_counts().index.difference(['No Action Taken', 'Reprimand', 'RESIGNED -NOT SERVED', \n",
    "                                                              'SUSTAINED-NO PENALTY', 'Violation Noted', 'Penalty Not Served', \n",
    "                                                                'Reinstated by Police Board', 'Resigned'])\n",
    "\n",
    "# Create the binary, discplined or not, outcome variable \n",
    "accused_df['disciplined'] = accused_df['final_outcome'].apply(lambda x: 1 if x in disc_outcomes else 0)"
   ]
  },
  {
   "cell_type": "markdown",
   "id": "689dddbd-f7d8-4e1f-9826-b7112b026406",
   "metadata": {},
   "source": [
    "Just as with \"discplined\", we also needed to create a our second response variable, sustained (sustained = 1 and sustained = 0) from the categories in \"final_finding\""
   ]
  },
  {
   "cell_type": "code",
   "execution_count": 24,
   "id": "94955553-bdbc-4c7b-9e44-1373d1166c3f",
   "metadata": {},
   "outputs": [],
   "source": [
    "# Create sustained or not sustained binary (final_find == NS)\n",
    "accused_df['final_finding'].value_counts()\n",
    "accused_df['sustained'] = accused_df['final_finding'].apply(lambda x: 1 if x == 'SU' else 0)\n",
    "\n",
    "# Keep in mind, final_finding has other categories "
   ]
  },
  {
   "cell_type": "markdown",
   "id": "a45aa6ce-8b38-4f7f-919b-0360272cf723",
   "metadata": {},
   "source": [
    "The accused_df contains a column \"complaint_code\" which corresponds to a complaint category, such as false arrest and unfit for duty. These description-code pairings were in another file that needed to be merged with accused_df on \"complaint_code\""
   ]
  },
  {
   "cell_type": "code",
   "execution_count": 25,
   "id": "bdab617b-103c-4056-bf85-cb491cf89726",
   "metadata": {},
   "outputs": [
    {
     "name": "stderr",
     "output_type": "stream",
     "text": [
      "/Users/ryanpayne/opt/anaconda3/lib/python3.9/site-packages/openpyxl/worksheet/_reader.py:296: UserWarning: Failed to load a conditional formatting rule. It will be discarded. Cause: expected <class 'openpyxl.worksheet.cell_range.MultiCellRange'>\n",
      "  warn(msg)\n"
     ]
    }
   ],
   "source": [
    "# Complaint categories \n",
    "complaint_ids = pd.read_excel('./project_data_unified/Complaint_Categories.xlsx')\n",
    "complaint_ids = complaint_ids.rename(columns={111:'complaint_code', 'CATEGORY':'complaint_category', \n",
    "                                             'ON / OFF DUTY':'on_off_duty'})\n",
    "# Collapse Excessive use of force into use of force\n",
    "complaint_ids['complaint_category'] = complaint_ids['complaint_category'].apply(lambda x: x.replace('Excessive Force', 'Use of Force'))\n",
    "# Combine racial profiling and first amendment into 'Other', since so few n\n",
    "complaint_ids['complaint_category'] = complaint_ids['complaint_category'].apply(lambda x: x.replace('Racial Profiling', 'Other'))\n",
    "complaint_ids['complaint_category'] = complaint_ids['complaint_category'].apply(lambda x: x.replace('First Amendment', 'Other'))\n",
    "\n",
    "# Add ON/OFF duty and complaint category to accused_df from reference data\n",
    "accused_df = pd.merge(accused_df, complaint_ids.loc[:,['complaint_code', 'on_off_duty', 'complaint_category']])"
   ]
  },
  {
   "cell_type": "markdown",
   "id": "39da8615-f16a-49ce-9da3-66b36e5bf92a",
   "metadata": {},
   "source": [
    "# Roster"
   ]
  },
  {
   "cell_type": "markdown",
   "id": "09bfed61-b7c7-4965-ba54-709d32b9fd90",
   "metadata": {},
   "source": [
    "Most of the cleaning performed below consists of renaming, replacing, and consolidating certain values to (a) make the data intepretable both to us and statmodels' functions and (b) remove as much imbalance in particular categories as appropriate."
   ]
  },
  {
   "cell_type": "code",
   "execution_count": 26,
   "id": "0a00a4b3-e40b-4c37-8cbf-41df46944dd8",
   "metadata": {},
   "outputs": [],
   "source": [
    "# Police roster information\n",
    "\n",
    "roster_df = pd.read_csv('./project_data_unified/roster/roster_1936-2017_2017-04.csv')\n",
    "star_nums = ['star1', 'star2', 'star3', 'star4', 'star5', 'star6', 'star7', 'star8', 'star9', 'star10']\n",
    "to_drop = ['last_name_NS','first_name_NS', 'middle_initial', 'middle_initial2', 'suffix_name','roster_1936-2017_2017-04_ID',\n",
    "          'row_id', 'merge', 'birth_year', 'resignation_date', 'link_UID']+star_nums\n",
    "# Drop columns\n",
    "roster_df = roster_df.drop(columns=to_drop)\n",
    "\n",
    "# Combine all police officers into one category\n",
    "# Identify rows containing 'PO' and replace with 'POLICE OFFICER'\n",
    "mask = roster_df['current_rank'].str.contains('PO') & ~roster_df['current_rank'].str.contains('POLICE OFFICER') & ~roster_df['current_rank'].str.contains('PO AS DETECTIVE') \n",
    "roster_df.loc[mask, 'current_rank'] = 'POLICE OFFICER'\n",
    "\n",
    "# Manually rename renaming \"PO\" entries\n",
    "roster_df['current_rank'] = roster_df['current_rank'].apply(lambda x: x.replace('P O ASSGN SEC SPEC', 'POLICE OFFICER'))\n",
    "roster_df['current_rank'] = roster_df['current_rank'].apply(lambda x: x.replace('P.O. ASSIGNED AS HELICOPTER PILOT', 'POLICE OFFICER'))\n",
    "roster_df['current_rank'] = roster_df['current_rank'].apply(lambda x: x.replace('DEP CHIEF', 'CHIEF'))\n",
    "\n",
    "# Collapse the rest of the ranks into Other\n",
    "to_replace = roster_df['current_rank'].value_counts().index.difference(['POLICE OFFICER', 'PO AS DETECTIVE', 'UNKNOWN', 'COMMANDER',\n",
    "                                                      'DEP CHIEF', 'CHIEF'])\n",
    "\n",
    "replace_dict = {level: 'Other' for level in to_replace}\n",
    "roster_df['current_rank'] = roster_df['current_rank'].replace(replace_dict)\n",
    "\n",
    "# Reduce number of unit descriptions \n",
    "counts = roster_df['unit_description'].value_counts()\n",
    "roster_df.loc[roster_df['unit_description'].isin(counts[counts < 50].index), 'unit_description'] = 'Other'\n",
    "\n",
    "# Rename columns \n",
    "roster_df = roster_df.rename(columns={'gender':'officer_gender', 'race':'officer_race', 'birth_year':'officer_birth_year', \n",
    "                                     'current_age':'officer_age'})\n",
    "\n",
    "# Combine Native American and Pacific Islander, for balance reasons\n",
    "roster_df['officer_race'] = roster_df['officer_race'].replace('NATIVE AMERICAN/ALASKAN NATIVE','ASIAN/PACIFIC ISLANDER')\n",
    "roster_df['officer_race'] = roster_df['officer_race'].replace('ASIAN/PACIFIC ISLANDER', 'ASIA_PAC/NATIV_AM')\n",
    "\n",
    "# Remove NaN and consolidate unknowns \n",
    "roster_df['unit_description'] = roster_df['unit_description'].fillna('Unknown')\n",
    "roster_df['unit_description'] = roster_df['unit_description'].apply(lambda x: x.replace('UNKNOWN', 'Unknown'))\n",
    "\n",
    "# Consolidate traffic units\n",
    "mask = roster_df['unit_description'].str.contains('TRAFFIC')\n",
    "roster_df.loc[mask, 'unit_description'] = 'TRAFFIC RELATED'\n",
    "\n",
    "# Consolidating Airport units \n",
    "mask = roster_df['unit_description'].str.contains('AIRPORT')\n",
    "roster_df.loc[mask, 'unit_description'] = 'AIRPORT RELATED'\n",
    "\n",
    "# Consolidating Public housing units \n",
    "mask = roster_df['unit_description'].str.contains('PUBLIC HOUSING')\n",
    "roster_df.loc[mask, 'unit_description'] = 'PUBLIC HOUSING'\n",
    "\n",
    "# Consolidating YOUTH and juvenile units \n",
    "mask = (roster_df['unit_description'].str.contains('YOUTH') | roster_df['unit_description'].str.contains('JUVENILE'))\n",
    "roster_df.loc[mask, 'unit_description'] = 'YOUTH_JUVENILE'\n",
    "\n",
    "# Consolidate gang units \n",
    "mask = roster_df['unit_description'].str.contains('GANG') \n",
    "roster_df.loc[mask, 'unit_description'] = 'GANG ENFORCEMENT_INVESTIGATION'\n",
    "\n",
    "# Consolidate patrol units \n",
    "mask = roster_df['unit_description'].str.contains('PATROL') \n",
    "roster_df.loc[mask, 'unit_description'] = 'PATROL'\n",
    "\n",
    "# Consolidate forensic units \n",
    "mask = roster_df['unit_description'].str.contains('FORENSIC') \n",
    "roster_df.loc[mask, 'unit_description'] = 'FORENSIC'\n",
    "\n",
    "# Consolidate property units \n",
    "mask = roster_df['unit_description'].str.contains('PROPERTY') |  roster_df['unit_description'].str.contains('ASSET')\n",
    "roster_df.loc[mask, 'unit_description'] = 'PROPERTY RELATED'\n",
    "\n",
    "# Consoldiate minority units again, keep district 013 separate\n",
    "counts = roster_df['unit_description'].value_counts()\n",
    "roster_df.loc[roster_df['unit_description'].isin(counts[counts < 50].index), 'unit_description'] = 'Other'"
   ]
  },
  {
   "cell_type": "markdown",
   "id": "d486586a-9a51-42c8-b081-912ebf57de7b",
   "metadata": {},
   "source": [
    "# Salary"
   ]
  },
  {
   "cell_type": "code",
   "execution_count": 27,
   "id": "40a6088d-f6c8-4469-b850-cf6f413aa2b7",
   "metadata": {},
   "outputs": [
    {
     "name": "stderr",
     "output_type": "stream",
     "text": [
      "/var/folders/q1/m9fsct652l59y6ctvtwrwg7c0000gn/T/ipykernel_1161/809391773.py:18: UserWarning: This pattern is interpreted as a regular expression, and has match groups. To actually get the groups, use str.extract.\n",
      "  mask = salary_df['rank'].str.contains('POLICE') & ~salary_df['rank'].str.contains('POLICE OFFICER (ASSIGNED AS DETECTIVE)')\n"
     ]
    }
   ],
   "source": [
    "# Salary data\n",
    "salary_df = pd.read_csv('./project_data_unified/salary/salary_2002-2017_2017-09.csv')\n",
    "salary_df['rank'] = salary_df['rank'].astype(str)\n",
    "\n",
    "# Delete redundant columns \n",
    "salary_df = salary_df.filter(regex='^(?!salary-)')\n",
    "salary_df = salary_df.drop(columns=['salary_2002-2017_2017-09_ID.1', 'salary_2002-2017_2017-09_ID', 'org_hire_date', 'year', \n",
    "                                   'spp_date', 'row_id'])\n",
    "\n",
    "# Rename\n",
    "salary_df['rank'] = salary_df['rank'].replace('POLICE OFFICER (ASSIGNED AS DETECTIVE)','PO AS DETECTIVE')\n",
    "\n",
    "# Collapsing POLICE OFFICERS\n",
    "mask = salary_df['rank'].str.contains('POLICE OFFICER') \n",
    "salary_df.loc[mask, 'rank'] = 'POLICE OFFICER'\n",
    "\n",
    "# Collapsing other POLICE...\n",
    "mask = salary_df['rank'].str.contains('POLICE') & ~salary_df['rank'].str.contains('POLICE OFFICER (ASSIGNED AS DETECTIVE)')\n",
    "salary_df.loc[mask, 'rank'] = 'POLICE OTHER'\n",
    "\n",
    "# RENAME\n",
    "salary_df = salary_df.rename(columns={'POLICE OFFICER (ASSIGNED AS DETECTIVE)':'PO AS DETECTIVE'})\n",
    "\n",
    "to_replace = salary_df['rank'].value_counts().index.difference(['POLICE OFFICER', 'SERGEANT', 'COMMANDER', 'CHIEF', 'DEPUTY CHIEF',\n",
    "                                                                'LIEUTENANT', 'EXPLOSIVES TECHNICIAN I', 'POLICE OTHER', 'PO AS DETECTIVE'])\n",
    "replace_dict = {level: 'Other' for level in to_replace}\n",
    "salary_df['rank'] = salary_df['rank'].replace(replace_dict)"
   ]
  },
  {
   "cell_type": "markdown",
   "id": "6a375c9a-5680-4eae-97fb-454827e1e740",
   "metadata": {},
   "source": [
    "## Merge Dataframes"
   ]
  },
  {
   "cell_type": "code",
   "execution_count": 28,
   "id": "3b5785c0-600a-4f88-b684-b0ef89ac34fd",
   "metadata": {},
   "outputs": [],
   "source": [
    "# Merge roster and salary data\n",
    "roster_sal_df = pd.merge(salary_df, roster_df, on='UID')\n",
    "# Merge officer roster-salary info with accused_df \n",
    "merged_df = pd.merge(accused_df, roster_sal_df, on='UID', how='inner')\n",
    "# Drop duplicates\n",
    "merged_df = merged_df.drop_duplicates(subset=['UID','cr_id', 'complaint_code']) \n",
    "#Drop redundant\n",
    "merged_df = merged_df.drop(columns='link_UID_y')\n",
    "# Rename\n",
    "merged_df = merged_df.rename(columns={'link_UID_x':'link_UID'})"
   ]
  },
  {
   "cell_type": "markdown",
   "id": "606a6f21-1bec-4dea-bfd4-7018cbdb9710",
   "metadata": {},
   "source": [
    "## Final cleaning: dummy variables, filtering unusable variables, etc."
   ]
  },
  {
   "cell_type": "code",
   "execution_count": 29,
   "id": "1371c919-06aa-4d9a-8eb0-725f5e50e374",
   "metadata": {},
   "outputs": [],
   "source": [
    "# Create copy of data frame \n",
    "df = merged_df.copy()\n",
    "\n",
    "# Ignore regular expression warning messages\n",
    "warnings.filterwarnings('ignore')\n",
    "\n",
    "# DUMMIES::\n",
    "\n",
    "# unit_description dummy df\n",
    "unit_df = (pd.get_dummies(df['unit_description'])).astype(float)\n",
    "unit_df = unit_df.drop(columns='Unknown')\n",
    "# complaint_category dummy df\n",
    "complaint_df = (pd.get_dummies(df['complaint_category'])).astype(float)\n",
    "complaint_df = complaint_df.drop(columns='Other')\n",
    "# officer gender dummy \n",
    "gender_df = pd.get_dummies(df['officer_gender'])\n",
    "# drop female (only need 1 dummy to encode binary)\n",
    "gender_df = gender_df.drop(columns='FEMALE')\n",
    "# officer Race dummy \n",
    "race_df = pd.get_dummies(df['officer_race'])\n",
    "# on/off duty dummy \n",
    "duty_df = pd.get_dummies(df['on_off_duty'])\n",
    "# Drop OFF dummy (only need 1 to encode binary)\n",
    "duty_df = duty_df.drop(columns='OFF')\n",
    "# current rank of officer dummies \n",
    "df['current_rank'] = df['current_rank'].astype(str)\n",
    "current_rank_df = pd.get_dummies(df['current_rank'])\n",
    "current_rank_df.columns = current_rank_df.columns.str.replace(' ','_')\n",
    "# drop UNKNOWN column (avoid perfect multicoll)\n",
    "current_rank_df = current_rank_df.drop(columns='UNKNOWN')\n",
    "# rename other column so we don't have 2 of them\n",
    "current_rank_df = current_rank_df.rename(columns={'Other':'Other_rank'})\n",
    "\n",
    "# Combine complaint_category + unit_description data frames \n",
    "complaint_unit_df = pd.concat([complaint_df, unit_df], axis=1)\n",
    "# Combine gender and race \n",
    "gender_race_df = pd.concat([race_df, gender_df], axis=1)\n",
    "# gender + race + unit + complaint category \n",
    "gender_race_unit_complaint_df = pd.concat([unit_df, complaint_df, gender_df, race_df], axis=1)\n",
    "# Create full data frame \n",
    "full_df = pd.concat([gender_race_unit_complaint_df, duty_df, current_rank_df], axis=1)\n",
    "# Add our 2 continuous variables\n",
    "full_df['salary'] = df['salary']\n",
    "full_df['officer_age'] = df['officer_age'] \n",
    "# Add disciplined\n",
    "full_df['y'] = df['disciplined']\n",
    "\n",
    "# Clean up column names (make compatiable with smf.)\n",
    "full_df.columns = full_df.columns.str.replace(' ', '_')\n",
    "full_df.columns = full_df.columns.str.replace('/', '_')\n",
    "full_df.columns = full_df.columns.str.replace(')', '')\n",
    "full_df.columns = full_df.columns.str.replace('(', '_')\n",
    "full_df.columns = full_df.columns.str.replace('-', '_')\n",
    "full_df.columns = full_df.columns.str.replace('.', '')\n",
    "full_df.columns = full_df.columns.str.replace('&', '_')"
   ]
  },
  {
   "cell_type": "markdown",
   "id": "9b91a14e",
   "metadata": {},
   "source": [
    "### Data preparation\n",
    "*By Sankaranarayanan Balasubramanian and Chun-Li*\n",
    "\n",
    "The following data preparation steps helped us to prepare our data for implementing various modeling / validation techniques:\n",
    "\n",
    "1. Since we need to predict house price, we derived some new predictors *(from existing predictors)* that intuitively seem to be helpuful to predict house price. \n",
    "\n",
    "2. We have shuffled the dataset to prepare it for K-fold cross validation.\n",
    "\n",
    "3. We have created a standardized version of the dataset, as we will use it to develop Lasso / Ridge regression models."
   ]
  },
  {
   "cell_type": "code",
   "execution_count": 4,
   "id": "09e0de5c",
   "metadata": {},
   "outputs": [
    {
     "name": "stderr",
     "output_type": "stream",
     "text": [
      "/var/folders/4b/sl3y8zds5g52xl7kl2dsn52w0000gn/T/ipykernel_20516/1618729323.py:2: DtypeWarning: Columns (24) have mixed types. Specify dtype option on import or set low_memory=False.\n",
      "  getsust = pd.read_csv('officers_only.csv')\n"
     ]
    }
   ],
   "source": [
    "#Inference 4 prep\n",
    "getsust = pd.read_csv('officers_only.csv')\n",
    "cln = pd.read_csv('cleaned_data.csv')\n",
    "\n",
    "full = pd.concat([cln, getsust[['sustained']]], axis=1)\n",
    "\n",
    "sust_only = full.loc[full['sustained'] == 1]\n",
    "sust_only = sust_only.drop(columns = {'sustained'})\n",
    "sust_only = sust_only.drop(columns = {'Unnamed: 0'})"
   ]
  },
  {
   "cell_type": "code",
   "execution_count": 30,
   "id": "77b2b85a",
   "metadata": {},
   "outputs": [],
   "source": [
    "######---------------Creating new predictors----------------#########\n",
    "\n",
    "#Creating number of bedrooms per unit floor area\n",
    "\n",
    "#Creating ratio of bathrooms to bedrooms\n",
    "\n",
    "#Creating ratio of carpet area to floor area"
   ]
  },
  {
   "cell_type": "code",
   "execution_count": 31,
   "id": "e0718dee-7712-4acf-b5fd-f25f4a39bd9e",
   "metadata": {},
   "outputs": [
    {
     "data": {
      "text/plain": [
       "Text(0, 0.5, 'Discplined')"
      ]
     },
     "execution_count": 31,
     "metadata": {},
     "output_type": "execute_result"
    },
    {
     "data": {
      "image/png": "[encoded data removed]",
      "text/plain": [
       "<Figure size 1008x432 with 2 Axes>"
      ]
     },
     "metadata": {
      "needs_background": "light"
     },
     "output_type": "display_data"
    }
   ],
   "source": [
    "# Jitters points to make distribution more visible \n",
    "def jitter(values,j):\n",
    "    return values + np.random.normal(j,0.01,values.shape)\n",
    "\n",
    "# Plot response variable vs salary and officer age, see whether binning is needed\n",
    "plt.figure(figsize=(14,6))\n",
    "plt.subplot(1, 2, 1)\n",
    "\n",
    "ax=sns.scatterplot(df['salary'], jitter(df['disciplined'],0), s=15, edgecolors='white', linewidths=0.2)\n",
    "plt.xlabel('Salary')\n",
    "plt.ylabel('Discplined')\n",
    "ax.xaxis.set_major_formatter('${x:,.0f}')\n",
    "\n",
    "plt.subplot(1, 2, 2)\n",
    "\n",
    "ax=sns.scatterplot(full_df['officer_age'], jitter(full_df['y'],0), s=15, edgecolors='white', linewidths=0.2)\n",
    "plt.xlabel('Officer Age')\n",
    "plt.ylabel('Discplined')"
   ]
  },
  {
   "cell_type": "markdown",
   "id": "2384c8a1-ab2b-45a7-a1db-e580fda3340c",
   "metadata": {},
   "source": [
    "Given the non-uniform distribution of salaries between the two response values, binning salary may be appropriate."
   ]
  },
  {
   "cell_type": "code",
   "execution_count": 32,
   "id": "27977ed0-51ec-448b-96b7-300b369d9f3a",
   "metadata": {
    "tags": []
   },
   "outputs": [],
   "source": [
    "# Bin salary data\n",
    "\n",
    "def var_transform(data):\n",
    "    binned_salary = pd.qcut(data['salary'],4,retbins=True)\n",
    "    bins = binned_salary[1]\n",
    "    data['salary_binned'] = pd.cut(data['salary'],bins = bins)\n",
    "    dum = pd.get_dummies(data.salary_binned,drop_first = True)\n",
    "    dum.columns = ['salary'+str(x) for x in range(1,len(bins)-1)]\n",
    "    data = pd.concat([data,dum], axis = 1)\n",
    "    return data\n",
    "\n",
    "salary_bin_data=var_transform(full_df)"
   ]
  },
  {
   "cell_type": "code",
   "execution_count": 33,
   "id": "14c696d4-1f9b-488f-a108-787508f3dba6",
   "metadata": {},
   "outputs": [
    {
     "data": {
      "image/png": "[encoded data removed]",
      "text/plain": [
       "<Figure size 432x288 with 1 Axes>"
      ]
     },
     "metadata": {
      "needs_background": "light"
     },
     "output_type": "display_data"
    }
   ],
   "source": [
    "# Check whether probability of response changes non-monotonically across bins and whether bin number is appropriate\n",
    "group_salary = salary_bin_data.groupby('salary_binned')['y'].agg([('p_disciplined','mean'),('nobs','count')]).reset_index(drop=False)\n",
    "\n",
    "plt.plot(group_salary['salary_binned'].astype(str), group_salary['p_disciplined'])\n",
    "plt.xlabel('Salary $')\n",
    "plt.ylabel('P(disciplined)')\n",
    "plt.show()"
   ]
  },
  {
   "cell_type": "markdown",
   "id": "72516468-0bcd-4acf-a989-9cfad69a2979",
   "metadata": {},
   "source": [
    "Binning or quadratically transforming salary appears appropriate"
   ]
  },
  {
   "cell_type": "code",
   "execution_count": 34,
   "id": "d11ad4c4-3832-4e12-b362-79a5b951ba70",
   "metadata": {
    "tags": []
   },
   "outputs": [],
   "source": [
    "# Turn salary bins into dummy variables and concat to main dataframe \n",
    "salary_D = pd.get_dummies(full_df['salary_binned'])\n",
    "temp = pd.DataFrame(columns=['salary_1', 'salary_2', 'salary_3', 'salary_4'])\n",
    "temp['salary_1'] = salary_D.iloc[:,0]\n",
    "temp['salary_2'] = salary_D.iloc[:,1]\n",
    "temp['salary_3'] = salary_D.iloc[:,2]\n",
    "temp['salary_4'] = salary_D.iloc[:,3]\n",
    "# concat to data frame, drop regular salary and salary binned \n",
    "full_df = pd.concat([full_df, temp], axis=1)\n",
    "full_df = full_df.drop(columns=['salary_binned', 'salary'])"
   ]
  },
  {
   "cell_type": "code",
   "execution_count": 35,
   "id": "e4e04063",
   "metadata": {},
   "outputs": [],
   "source": [
    "######-----------Shuffling the dataset for K-fold------------#########"
   ]
  },
  {
   "cell_type": "code",
   "execution_count": 36,
   "id": "2cecc4d7",
   "metadata": {},
   "outputs": [],
   "source": [
    "######-----Standardizing the dataset for Lasso / Ridge-------#########"
   ]
  },
  {
   "cell_type": "markdown",
   "id": "fbb11c9b",
   "metadata": {},
   "source": [
    "## Exploratory data analysis"
   ]
  },
  {
   "cell_type": "markdown",
   "id": "e4bd74a9",
   "metadata": {},
   "source": [
    "Put code with comments. The comments should explain the code such that it can be easily understood. You may put text *(in a markdown cell)* before a large chunk of code to explain the overall purpose of the code, if it is not intuitive. **Put the name of the person / persons who contributed to each code chunk / set of code chunks.**"
   ]
  },
  {
   "cell_type": "markdown",
   "id": "dc8d9916-734b-4d85-9aca-339b521f4d59",
   "metadata": {},
   "source": [
    "### Inference 1: What variables are most associated with whether an officer is disciplined or not? "
   ]
  },
  {
   "cell_type": "markdown",
   "id": "4c7fa57b-4930-47d9-b5e6-a9c6a4f79d9a",
   "metadata": {},
   "source": [
    "Strategy: Start with full model --> perform back selection, iteratively removing the predictor with the largest p-value until no more predictors have a p-value of greater than 0.05 --> check for multicollinearity with VIF"
   ]
  },
  {
   "cell_type": "code",
   "execution_count": 37,
   "id": "e2b08449-f9b4-4f40-8c81-426d55478a5e",
   "metadata": {},
   "outputs": [
    {
     "name": "stdout",
     "output_type": "stream",
     "text": [
      "Percentage of 96 predictors with p-values greater than 0.05: 84.375 %\n"
     ]
    }
   ],
   "source": [
    "# All predictors \n",
    "Xs = list(full_df.columns.difference(['y']))\n",
    "full_model = smf.logit('y~{}'.format('+'.join(Xs)), data = full_df).fit(maxiter=500, disp=False)\n",
    "print('Percentage of 96 predictors with p-values greater than 0.05:',(full_model.pvalues[1:] > 0.05).sum() / len(Xs)*100,'%')"
   ]
  },
  {
   "cell_type": "code",
   "execution_count": 38,
   "id": "472f9bcf-3a81-4935-8419-0bf8758a0f7e",
   "metadata": {},
   "outputs": [
    {
     "name": "stdout",
     "output_type": "stream",
     "text": [
      "                           Logit Regression Results                           \n",
      "==============================================================================\n",
      "Dep. Variable:                      y   No. Observations:               194142\n",
      "Model:                          Logit   Df Residuals:                   194098\n",
      "Method:                           MLE   Df Model:                           43\n",
      "Date:                Tue, 14 Mar 2023   Pseudo R-squ.:                  0.1168\n",
      "Time:                        14:15:38   Log-Likelihood:                -31133.\n",
      "converged:                       True   LL-Null:                       -35251.\n",
      "Covariance Type:            nonrobust   LLR p-value:                     0.000\n",
      "==================================================================================================\n",
      "                                     coef    std err          z      P>|z|      [0.025      0.975]\n",
      "--------------------------------------------------------------------------------------------------\n",
      "Intercept                         -3.7544      0.134    -28.119      0.000      -4.016      -3.493\n",
      "ASIA_PAC_NATIV_AM                 -0.4838      0.091     -5.299      0.000      -0.663      -0.305\n",
      "BUREAU_OF_INTERNAL_AFFAIRS        -0.6114      0.170     -3.597      0.000      -0.945      -0.278\n",
      "Bribery___Official_Corruption      1.9319      0.175     11.067      0.000       1.590       2.274\n",
      "CENTRAL_DETENTION_UNIT             0.5467      0.109      5.024      0.000       0.333       0.760\n",
      "CHIEF                             -1.1168      0.308     -3.628      0.000      -1.720      -0.514\n",
      "COMMANDER                         -0.8792      0.210     -4.180      0.000      -1.291      -0.467\n",
      "Conduct_Unbecoming__Off_duty       1.9287      0.106     18.227      0.000       1.721       2.136\n",
      "Criminal_Misconduct                1.1719      0.111     10.567      0.000       0.955       1.389\n",
      "DETECTIVE_AREA___CENTRAL          -0.1535      0.073     -2.102      0.036      -0.297      -0.010\n",
      "DETECTIVE_AREA___SOUTH            -0.2004      0.071     -2.823      0.005      -0.340      -0.061\n",
      "DETECTIVE_SECTION___AREA_4        -0.7295      0.286     -2.553      0.011      -1.290      -0.169\n",
      "DISTRICT_001                       0.1584      0.055      2.868      0.004       0.050       0.267\n",
      "DISTRICT_002                       0.2082      0.049      4.207      0.000       0.111       0.305\n",
      "DISTRICT_003                      -0.1698      0.065     -2.623      0.009      -0.297      -0.043\n",
      "DISTRICT_010                       0.1707      0.073      2.337      0.019       0.028       0.314\n",
      "DISTRICT_013                       0.3508      0.149      2.352      0.019       0.058       0.643\n",
      "DISTRICT_014                       0.2808      0.075      3.756      0.000       0.134       0.427\n",
      "DISTRICT_018                       0.1508      0.056      2.676      0.007       0.040       0.261\n",
      "DISTRICT_019                       0.2526      0.062      4.086      0.000       0.131       0.374\n",
      "DISTRICT_025                       0.2182      0.075      2.927      0.003       0.072       0.364\n",
      "DISTRICT_REINSTATEMENT_UNIT        0.7166      0.150      4.767      0.000       0.422       1.011\n",
      "Domestic                           1.3951      0.103     13.526      0.000       1.193       1.597\n",
      "Drug___Alcohol_Abuse               3.3041      0.123     26.953      0.000       3.064       3.544\n",
      "False_Arrest                      -1.5978      0.281     -5.695      0.000      -2.148      -1.048\n",
      "GANG_ENFORCEMENT_INVESTIGATION    -0.4031      0.134     -3.007      0.003      -0.666      -0.140\n",
      "HISPANIC                          -0.4504      0.037    -12.092      0.000      -0.523      -0.377\n",
      "Illegal_Search                    -1.6488      0.150    -11.011      0.000      -1.942      -1.355\n",
      "Lockup_Procedures                  1.5800      0.093     17.049      0.000       1.398       1.762\n",
      "MALE                              -0.1351      0.029     -4.675      0.000      -0.192      -0.078\n",
      "MOBILE_STRIKE_FORCE               -0.5607      0.242     -2.319      0.020      -1.035      -0.087\n",
      "OEMC___DETAIL_SECTION              0.7195      0.165      4.371      0.000       0.397       1.042\n",
      "ON                                -0.7329      0.055    -13.256      0.000      -0.841      -0.625\n",
      "Operation_Personnel_Violations     1.6856      0.085     19.825      0.000       1.519       1.852\n",
      "PUBLIC_TRANSPORTATION_SECTION      0.1737      0.066      2.639      0.008       0.045       0.303\n",
      "RECRUIT_TRAINING_SECTION           2.6503      0.229     11.587      0.000       2.202       3.099\n",
      "Supervisory_Responsibilities       0.9505      0.131      7.264      0.000       0.694       1.207\n",
      "Traffic                            1.2952      0.102     12.714      0.000       1.095       1.495\n",
      "Use_of_Force                       0.4905      0.092      5.338      0.000       0.310       0.671\n",
      "WHITE                             -0.6969      0.027    -26.040      0.000      -0.749      -0.644\n",
      "officer_age                        0.0080      0.002      4.564      0.000       0.005       0.011\n",
      "salary_2                           0.2037      0.039      5.286      0.000       0.128       0.279\n",
      "salary_3                           0.3069      0.042      7.342      0.000       0.225       0.389\n",
      "salary_4                           0.3097      0.049      6.342      0.000       0.214       0.405\n",
      "==================================================================================================\n"
     ]
    }
   ],
   "source": [
    "# Perform backward selection, removing p-values\n",
    "\n",
    "# Start with full model \n",
    "logit_model = full_model\n",
    "Xs = list(full_df.columns.difference(['y']))\n",
    "\n",
    "while True:\n",
    "    max_pvalue = max(logit_model.pvalues)\n",
    "    if max_pvalue > 0.05:\n",
    "        # remove the predictor with the largest p-value\n",
    "        predictor_to_remove = logit_model.pvalues.idxmax()\n",
    "        Xs.remove(predictor_to_remove)\n",
    "        logit_model = smf.logit('y~{}'.format('+'.join(Xs)), data=full_df).fit(disp=False)\n",
    "    else:\n",
    "        break\n",
    "        \n",
    "final_back_selected_mod = logit_model\n",
    "print(final_back_selected_mod.summary())"
   ]
  },
  {
   "cell_type": "code",
   "execution_count": null,
   "id": "7b745dfe-49d6-42b9-aa55-6b4d56596363",
   "metadata": {},
   "outputs": [],
   "source": [
    "CHIEF                             -1.1168      0.308     -3.628      0.000      -1.720      -0.514\n",
    "COMMANDER                         -0.8792 "
   ]
  },
  {
   "cell_type": "code",
   "execution_count": 60,
   "id": "57ed2751-c1df-46e2-b6b4-a4df030270f3",
   "metadata": {},
   "outputs": [
    {
     "data": {
      "text/plain": [
       "Operation_Personnel_Violations    1.685647\n",
       "Conduct_Unbecoming__Off_duty      1.928682\n",
       "Bribery___Official_Corruption     1.931911\n",
       "RECRUIT_TRAINING_SECTION          2.650347\n",
       "Drug___Alcohol_Abuse              3.304148\n",
       "dtype: float64"
      ]
     },
     "execution_count": 60,
     "metadata": {},
     "output_type": "execute_result"
    }
   ],
   "source": [
    "final_back_selected_mod.params.sort_values().tail(5)"
   ]
  },
  {
   "cell_type": "code",
   "execution_count": 55,
   "id": "2ba310b5-07fd-4210-a919-6fa29fb8d726",
   "metadata": {},
   "outputs": [
    {
     "data": {
      "text/plain": [
       "0.7976681281978599"
      ]
     },
     "execution_count": 55,
     "metadata": {},
     "output_type": "execute_result"
    }
   ],
   "source": [
    "1 - np.exp(-1.597846)"
   ]
  },
  {
   "cell_type": "code",
   "execution_count": 57,
   "id": "31caceb7-a32a-4786-8525-63985e387805",
   "metadata": {},
   "outputs": [
    {
     "data": {
      "text/plain": [
       "0.807716032077367"
      ]
     },
     "execution_count": 57,
     "metadata": {},
     "output_type": "execute_result"
    }
   ],
   "source": [
    "1 - np.exp(-1.648782)"
   ]
  },
  {
   "cell_type": "code",
   "execution_count": 61,
   "id": "f045ff00-b765-401b-93ff-ebd35adfdc15",
   "metadata": {},
   "outputs": [
    {
     "data": {
      "text/plain": [
       "5.395940977010438"
      ]
     },
     "execution_count": 61,
     "metadata": {},
     "output_type": "execute_result"
    }
   ],
   "source": [
    "np.exp(1.685647)"
   ]
  },
  {
   "cell_type": "code",
   "execution_count": 62,
   "id": "3448d45b-3780-43ee-afac-a9b134847c4d",
   "metadata": {},
   "outputs": [
    {
     "data": {
      "text/html": [
       "<div>\n",
       "<style scoped>\n",
       "    .dataframe tbody tr th:only-of-type {\n",
       "        vertical-align: middle;\n",
       "    }\n",
       "\n",
       "    .dataframe tbody tr th {\n",
       "        vertical-align: top;\n",
       "    }\n",
       "\n",
       "    .dataframe thead th {\n",
       "        text-align: right;\n",
       "    }\n",
       "</style>\n",
       "<table border=\"1\" class=\"dataframe\">\n",
       "  <thead>\n",
       "    <tr style=\"text-align: right;\">\n",
       "      <th></th>\n",
       "      <th>ADMIN_SCHOOL_SECURIT</th>\n",
       "      <th>AIRPORT_RELATED</th>\n",
       "      <th>BOMB_AND_ARSON_DIVISION</th>\n",
       "      <th>BUREAU_OF_INTERNAL_AFFAIRS</th>\n",
       "      <th>BUREAU_OF_ORGANIZED_CRIME</th>\n",
       "      <th>CENTRAL_DETENTION_UNIT</th>\n",
       "      <th>CENTRAL_INVESTIGATIONS_DIVISION</th>\n",
       "      <th>DET_DIV_ADMIN</th>\n",
       "      <th>DETACHED_SERVICES___GOVERMENT_SECURITY</th>\n",
       "      <th>DETACHED_SERVICES___MISCELLANEOUS_DETAIL</th>\n",
       "      <th>...</th>\n",
       "      <th>COMMANDER</th>\n",
       "      <th>Other_rank</th>\n",
       "      <th>PO_AS_DETECTIVE</th>\n",
       "      <th>POLICE_OFFICER</th>\n",
       "      <th>officer_age</th>\n",
       "      <th>y</th>\n",
       "      <th>salary_1</th>\n",
       "      <th>salary_2</th>\n",
       "      <th>salary_3</th>\n",
       "      <th>salary_4</th>\n",
       "    </tr>\n",
       "  </thead>\n",
       "  <tbody>\n",
       "    <tr>\n",
       "      <th>0</th>\n",
       "      <td>0.0</td>\n",
       "      <td>0.0</td>\n",
       "      <td>0.0</td>\n",
       "      <td>0.0</td>\n",
       "      <td>0.0</td>\n",
       "      <td>0.0</td>\n",
       "      <td>0.0</td>\n",
       "      <td>0.0</td>\n",
       "      <td>0.0</td>\n",
       "      <td>0.0</td>\n",
       "      <td>...</td>\n",
       "      <td>0</td>\n",
       "      <td>0</td>\n",
       "      <td>0</td>\n",
       "      <td>1</td>\n",
       "      <td>69.0</td>\n",
       "      <td>1</td>\n",
       "      <td>0</td>\n",
       "      <td>0</td>\n",
       "      <td>0</td>\n",
       "      <td>1</td>\n",
       "    </tr>\n",
       "    <tr>\n",
       "      <th>2</th>\n",
       "      <td>0.0</td>\n",
       "      <td>0.0</td>\n",
       "      <td>0.0</td>\n",
       "      <td>0.0</td>\n",
       "      <td>0.0</td>\n",
       "      <td>0.0</td>\n",
       "      <td>0.0</td>\n",
       "      <td>0.0</td>\n",
       "      <td>0.0</td>\n",
       "      <td>0.0</td>\n",
       "      <td>...</td>\n",
       "      <td>0</td>\n",
       "      <td>0</td>\n",
       "      <td>0</td>\n",
       "      <td>1</td>\n",
       "      <td>69.0</td>\n",
       "      <td>0</td>\n",
       "      <td>0</td>\n",
       "      <td>0</td>\n",
       "      <td>0</td>\n",
       "      <td>1</td>\n",
       "    </tr>\n",
       "    <tr>\n",
       "      <th>4</th>\n",
       "      <td>0.0</td>\n",
       "      <td>0.0</td>\n",
       "      <td>0.0</td>\n",
       "      <td>0.0</td>\n",
       "      <td>0.0</td>\n",
       "      <td>0.0</td>\n",
       "      <td>0.0</td>\n",
       "      <td>0.0</td>\n",
       "      <td>0.0</td>\n",
       "      <td>0.0</td>\n",
       "      <td>...</td>\n",
       "      <td>0</td>\n",
       "      <td>0</td>\n",
       "      <td>0</td>\n",
       "      <td>1</td>\n",
       "      <td>69.0</td>\n",
       "      <td>0</td>\n",
       "      <td>0</td>\n",
       "      <td>0</td>\n",
       "      <td>0</td>\n",
       "      <td>1</td>\n",
       "    </tr>\n",
       "    <tr>\n",
       "      <th>6</th>\n",
       "      <td>0.0</td>\n",
       "      <td>0.0</td>\n",
       "      <td>0.0</td>\n",
       "      <td>0.0</td>\n",
       "      <td>0.0</td>\n",
       "      <td>0.0</td>\n",
       "      <td>0.0</td>\n",
       "      <td>0.0</td>\n",
       "      <td>0.0</td>\n",
       "      <td>0.0</td>\n",
       "      <td>...</td>\n",
       "      <td>0</td>\n",
       "      <td>0</td>\n",
       "      <td>0</td>\n",
       "      <td>1</td>\n",
       "      <td>69.0</td>\n",
       "      <td>0</td>\n",
       "      <td>0</td>\n",
       "      <td>0</td>\n",
       "      <td>0</td>\n",
       "      <td>1</td>\n",
       "    </tr>\n",
       "    <tr>\n",
       "      <th>8</th>\n",
       "      <td>0.0</td>\n",
       "      <td>0.0</td>\n",
       "      <td>0.0</td>\n",
       "      <td>0.0</td>\n",
       "      <td>0.0</td>\n",
       "      <td>0.0</td>\n",
       "      <td>0.0</td>\n",
       "      <td>0.0</td>\n",
       "      <td>0.0</td>\n",
       "      <td>0.0</td>\n",
       "      <td>...</td>\n",
       "      <td>0</td>\n",
       "      <td>0</td>\n",
       "      <td>0</td>\n",
       "      <td>1</td>\n",
       "      <td>69.0</td>\n",
       "      <td>0</td>\n",
       "      <td>0</td>\n",
       "      <td>0</td>\n",
       "      <td>0</td>\n",
       "      <td>1</td>\n",
       "    </tr>\n",
       "    <tr>\n",
       "      <th>...</th>\n",
       "      <td>...</td>\n",
       "      <td>...</td>\n",
       "      <td>...</td>\n",
       "      <td>...</td>\n",
       "      <td>...</td>\n",
       "      <td>...</td>\n",
       "      <td>...</td>\n",
       "      <td>...</td>\n",
       "      <td>...</td>\n",
       "      <td>...</td>\n",
       "      <td>...</td>\n",
       "      <td>...</td>\n",
       "      <td>...</td>\n",
       "      <td>...</td>\n",
       "      <td>...</td>\n",
       "      <td>...</td>\n",
       "      <td>...</td>\n",
       "      <td>...</td>\n",
       "      <td>...</td>\n",
       "      <td>...</td>\n",
       "      <td>...</td>\n",
       "    </tr>\n",
       "    <tr>\n",
       "      <th>2519371</th>\n",
       "      <td>0.0</td>\n",
       "      <td>0.0</td>\n",
       "      <td>0.0</td>\n",
       "      <td>0.0</td>\n",
       "      <td>0.0</td>\n",
       "      <td>0.0</td>\n",
       "      <td>0.0</td>\n",
       "      <td>0.0</td>\n",
       "      <td>0.0</td>\n",
       "      <td>0.0</td>\n",
       "      <td>...</td>\n",
       "      <td>0</td>\n",
       "      <td>0</td>\n",
       "      <td>0</td>\n",
       "      <td>1</td>\n",
       "      <td>49.0</td>\n",
       "      <td>1</td>\n",
       "      <td>1</td>\n",
       "      <td>0</td>\n",
       "      <td>0</td>\n",
       "      <td>0</td>\n",
       "    </tr>\n",
       "    <tr>\n",
       "      <th>2519373</th>\n",
       "      <td>0.0</td>\n",
       "      <td>0.0</td>\n",
       "      <td>0.0</td>\n",
       "      <td>0.0</td>\n",
       "      <td>0.0</td>\n",
       "      <td>0.0</td>\n",
       "      <td>0.0</td>\n",
       "      <td>0.0</td>\n",
       "      <td>0.0</td>\n",
       "      <td>0.0</td>\n",
       "      <td>...</td>\n",
       "      <td>0</td>\n",
       "      <td>0</td>\n",
       "      <td>0</td>\n",
       "      <td>1</td>\n",
       "      <td>31.0</td>\n",
       "      <td>1</td>\n",
       "      <td>1</td>\n",
       "      <td>0</td>\n",
       "      <td>0</td>\n",
       "      <td>0</td>\n",
       "    </tr>\n",
       "    <tr>\n",
       "      <th>2519375</th>\n",
       "      <td>0.0</td>\n",
       "      <td>0.0</td>\n",
       "      <td>0.0</td>\n",
       "      <td>0.0</td>\n",
       "      <td>0.0</td>\n",
       "      <td>0.0</td>\n",
       "      <td>0.0</td>\n",
       "      <td>0.0</td>\n",
       "      <td>0.0</td>\n",
       "      <td>0.0</td>\n",
       "      <td>...</td>\n",
       "      <td>0</td>\n",
       "      <td>0</td>\n",
       "      <td>0</td>\n",
       "      <td>1</td>\n",
       "      <td>29.0</td>\n",
       "      <td>1</td>\n",
       "      <td>1</td>\n",
       "      <td>0</td>\n",
       "      <td>0</td>\n",
       "      <td>0</td>\n",
       "    </tr>\n",
       "    <tr>\n",
       "      <th>2519380</th>\n",
       "      <td>0.0</td>\n",
       "      <td>0.0</td>\n",
       "      <td>0.0</td>\n",
       "      <td>0.0</td>\n",
       "      <td>0.0</td>\n",
       "      <td>0.0</td>\n",
       "      <td>0.0</td>\n",
       "      <td>0.0</td>\n",
       "      <td>0.0</td>\n",
       "      <td>0.0</td>\n",
       "      <td>...</td>\n",
       "      <td>0</td>\n",
       "      <td>0</td>\n",
       "      <td>0</td>\n",
       "      <td>1</td>\n",
       "      <td>32.0</td>\n",
       "      <td>1</td>\n",
       "      <td>1</td>\n",
       "      <td>0</td>\n",
       "      <td>0</td>\n",
       "      <td>0</td>\n",
       "    </tr>\n",
       "    <tr>\n",
       "      <th>2519385</th>\n",
       "      <td>0.0</td>\n",
       "      <td>0.0</td>\n",
       "      <td>0.0</td>\n",
       "      <td>0.0</td>\n",
       "      <td>0.0</td>\n",
       "      <td>0.0</td>\n",
       "      <td>0.0</td>\n",
       "      <td>0.0</td>\n",
       "      <td>0.0</td>\n",
       "      <td>0.0</td>\n",
       "      <td>...</td>\n",
       "      <td>0</td>\n",
       "      <td>0</td>\n",
       "      <td>0</td>\n",
       "      <td>1</td>\n",
       "      <td>40.0</td>\n",
       "      <td>1</td>\n",
       "      <td>1</td>\n",
       "      <td>0</td>\n",
       "      <td>0</td>\n",
       "      <td>0</td>\n",
       "    </tr>\n",
       "  </tbody>\n",
       "</table>\n",
       "<p>194142 rows × 97 columns</p>\n",
       "</div>"
      ],
      "text/plain": [
       "         ADMIN_SCHOOL_SECURIT  AIRPORT_RELATED  BOMB_AND_ARSON_DIVISION  \\\n",
       "0                         0.0              0.0                      0.0   \n",
       "2                         0.0              0.0                      0.0   \n",
       "4                         0.0              0.0                      0.0   \n",
       "6                         0.0              0.0                      0.0   \n",
       "8                         0.0              0.0                      0.0   \n",
       "...                       ...              ...                      ...   \n",
       "2519371                   0.0              0.0                      0.0   \n",
       "2519373                   0.0              0.0                      0.0   \n",
       "2519375                   0.0              0.0                      0.0   \n",
       "2519380                   0.0              0.0                      0.0   \n",
       "2519385                   0.0              0.0                      0.0   \n",
       "\n",
       "         BUREAU_OF_INTERNAL_AFFAIRS  BUREAU_OF_ORGANIZED_CRIME  \\\n",
       "0                               0.0                        0.0   \n",
       "2                               0.0                        0.0   \n",
       "4                               0.0                        0.0   \n",
       "6                               0.0                        0.0   \n",
       "8                               0.0                        0.0   \n",
       "...                             ...                        ...   \n",
       "2519371                         0.0                        0.0   \n",
       "2519373                         0.0                        0.0   \n",
       "2519375                         0.0                        0.0   \n",
       "2519380                         0.0                        0.0   \n",
       "2519385                         0.0                        0.0   \n",
       "\n",
       "         CENTRAL_DETENTION_UNIT  CENTRAL_INVESTIGATIONS_DIVISION  \\\n",
       "0                           0.0                              0.0   \n",
       "2                           0.0                              0.0   \n",
       "4                           0.0                              0.0   \n",
       "6                           0.0                              0.0   \n",
       "8                           0.0                              0.0   \n",
       "...                         ...                              ...   \n",
       "2519371                     0.0                              0.0   \n",
       "2519373                     0.0                              0.0   \n",
       "2519375                     0.0                              0.0   \n",
       "2519380                     0.0                              0.0   \n",
       "2519385                     0.0                              0.0   \n",
       "\n",
       "         DET_DIV_ADMIN  DETACHED_SERVICES___GOVERMENT_SECURITY  \\\n",
       "0                  0.0                                     0.0   \n",
       "2                  0.0                                     0.0   \n",
       "4                  0.0                                     0.0   \n",
       "6                  0.0                                     0.0   \n",
       "8                  0.0                                     0.0   \n",
       "...                ...                                     ...   \n",
       "2519371            0.0                                     0.0   \n",
       "2519373            0.0                                     0.0   \n",
       "2519375            0.0                                     0.0   \n",
       "2519380            0.0                                     0.0   \n",
       "2519385            0.0                                     0.0   \n",
       "\n",
       "         DETACHED_SERVICES___MISCELLANEOUS_DETAIL  ...  COMMANDER  Other_rank  \\\n",
       "0                                             0.0  ...          0           0   \n",
       "2                                             0.0  ...          0           0   \n",
       "4                                             0.0  ...          0           0   \n",
       "6                                             0.0  ...          0           0   \n",
       "8                                             0.0  ...          0           0   \n",
       "...                                           ...  ...        ...         ...   \n",
       "2519371                                       0.0  ...          0           0   \n",
       "2519373                                       0.0  ...          0           0   \n",
       "2519375                                       0.0  ...          0           0   \n",
       "2519380                                       0.0  ...          0           0   \n",
       "2519385                                       0.0  ...          0           0   \n",
       "\n",
       "         PO_AS_DETECTIVE  POLICE_OFFICER  officer_age  y  salary_1  salary_2  \\\n",
       "0                      0               1         69.0  1         0         0   \n",
       "2                      0               1         69.0  0         0         0   \n",
       "4                      0               1         69.0  0         0         0   \n",
       "6                      0               1         69.0  0         0         0   \n",
       "8                      0               1         69.0  0         0         0   \n",
       "...                  ...             ...          ... ..       ...       ...   \n",
       "2519371                0               1         49.0  1         1         0   \n",
       "2519373                0               1         31.0  1         1         0   \n",
       "2519375                0               1         29.0  1         1         0   \n",
       "2519380                0               1         32.0  1         1         0   \n",
       "2519385                0               1         40.0  1         1         0   \n",
       "\n",
       "         salary_3  salary_4  \n",
       "0               0         1  \n",
       "2               0         1  \n",
       "4               0         1  \n",
       "6               0         1  \n",
       "8               0         1  \n",
       "...           ...       ...  \n",
       "2519371         0         0  \n",
       "2519373         0         0  \n",
       "2519375         0         0  \n",
       "2519380         0         0  \n",
       "2519385         0         0  \n",
       "\n",
       "[194142 rows x 97 columns]"
      ]
     },
     "execution_count": 62,
     "metadata": {},
     "output_type": "execute_result"
    }
   ],
   "source": [
    "full_df"
   ]
  },
  {
   "cell_type": "code",
   "execution_count": 51,
   "id": "b84810dd-a82f-4e6c-b283-f82418e6e05b",
   "metadata": {},
   "outputs": [
    {
     "data": {
      "text/plain": [
       "44"
      ]
     },
     "execution_count": 51,
     "metadata": {},
     "output_type": "execute_result"
    }
   ],
   "source": [
    "len(final_back_selected_mod.params)"
   ]
  },
  {
   "cell_type": "markdown",
   "id": "b9f04883-d56e-424d-9815-f1fef0123020",
   "metadata": {},
   "source": [
    "The back selected model removed 53 predictors from the full model. The next thing to do is to add an additional effect size filter. We are only interested in the predictors that lead to at least a 5% change in the odds ratio of being disciplined."
   ]
  },
  {
   "cell_type": "code",
   "execution_count": 39,
   "id": "5bbaa544-53ea-4ad9-9409-97e71cbc5a14",
   "metadata": {},
   "outputs": [
    {
     "name": "stdout",
     "output_type": "stream",
     "text": [
      "Weak predictor to remove: officer_age\n"
     ]
    }
   ],
   "source": [
    "# Get p-value back selected model's coefficients and \n",
    "p_back_selected_coefs = list(final_back_selected_mod.params[1:])\n",
    "p_back_selected_params = list(final_back_selected_mod.params.index.difference(['Intercept']))\n",
    "odds_ratios = np.exp(p_back_selected_coefs)\n",
    "effect_sizes = abs(1 - odds_ratios)\n",
    "# Find if any significant predictors were really weak (changed odds ratio by less than 10%)\n",
    "weak_ind  = np.where(effect_sizes < 0.05)\n",
    "print('Weak predictor to remove:', p_back_selected_params[weak_ind[0][0]])"
   ]
  },
  {
   "cell_type": "markdown",
   "id": "10cb6128-a942-41fc-bec6-bef4db615f1d",
   "metadata": {},
   "source": [
    "Finally, let's check that there aren't severe multicollinearity problems. By performing p-value back selection, we already likely removed many of the most multicollinear predictors, since predictors with high multicollinearity have large estimated standard errors and therefore large p-values. In fact, this was part of the motivation for back selecting in this manner."
   ]
  },
  {
   "cell_type": "code",
   "execution_count": 40,
   "id": "44457517-1f27-4aaf-b958-243f0cb5e64a",
   "metadata": {},
   "outputs": [],
   "source": [
    "def find_VIF(X): # takes matrix of predictors, calculates VIF for each\n",
    "    \n",
    "    X = sm.add_constant(X)\n",
    "    vif_data = pd.DataFrame()\n",
    "    vif_data[\"feature\"] = X.columns\n",
    "\n",
    "    for i in range(len(X.columns)):\n",
    "        vif_data.loc[i,'VIF'] = variance_inflation_factor(X.values, i)\n",
    "\n",
    "    return vif_data.sort_values(by='VIF', ascending=False)"
   ]
  },
  {
   "cell_type": "code",
   "execution_count": 50,
   "id": "c260562d-cee8-4572-be45-a8dd506916e5",
   "metadata": {},
   "outputs": [
    {
     "data": {
      "text/plain": [
       "POLICE OFFICER     169490\n",
       "PO AS DETECTIVE     21989\n",
       "COMMANDER            1241\n",
       "CHIEF                 761\n",
       "Other                 648\n",
       "UNKNOWN                13\n",
       "Name: current_rank, dtype: int64"
      ]
     },
     "execution_count": 50,
     "metadata": {},
     "output_type": "execute_result"
    }
   ],
   "source": [
    "df['current_rank'].value_counts()"
   ]
  },
  {
   "cell_type": "code",
   "execution_count": 41,
   "id": "fb0e84b2-2e52-4f76-a4b7-b85dc9592a7c",
   "metadata": {},
   "outputs": [],
   "source": [
    "# Remove officer_age\n",
    "#p_back_selected_params.remove('officer_age')\n",
    "# Calculate VIF\n",
    "vif = find_VIF(full_df[p_back_selected_params])"
   ]
  },
  {
   "cell_type": "code",
   "execution_count": 45,
   "id": "5ac7f279-e304-4872-995a-9cde06feded4",
   "metadata": {},
   "outputs": [
    {
     "data": {
      "text/html": [
       "<div>\n",
       "<style scoped>\n",
       "    .dataframe tbody tr th:only-of-type {\n",
       "        vertical-align: middle;\n",
       "    }\n",
       "\n",
       "    .dataframe tbody tr th {\n",
       "        vertical-align: top;\n",
       "    }\n",
       "\n",
       "    .dataframe thead th {\n",
       "        text-align: right;\n",
       "    }\n",
       "</style>\n",
       "<table border=\"1\" class=\"dataframe\">\n",
       "  <thead>\n",
       "    <tr style=\"text-align: right;\">\n",
       "      <th></th>\n",
       "      <th>feature</th>\n",
       "      <th>VIF</th>\n",
       "    </tr>\n",
       "  </thead>\n",
       "  <tbody>\n",
       "    <tr>\n",
       "      <th>0</th>\n",
       "      <td>const</td>\n",
       "      <td>22062.261156</td>\n",
       "    </tr>\n",
       "    <tr>\n",
       "      <th>91</th>\n",
       "      <td>POLICE_OFFICER</td>\n",
       "      <td>2139.120552</td>\n",
       "    </tr>\n",
       "    <tr>\n",
       "      <th>90</th>\n",
       "      <td>PO_AS_DETECTIVE</td>\n",
       "      <td>1944.288618</td>\n",
       "    </tr>\n",
       "    <tr>\n",
       "      <th>85</th>\n",
       "      <td>WHITE</td>\n",
       "      <td>841.181123</td>\n",
       "    </tr>\n",
       "    <tr>\n",
       "      <th>83</th>\n",
       "      <td>BLACK</td>\n",
       "      <td>671.560549</td>\n",
       "    </tr>\n",
       "    <tr>\n",
       "      <th>...</th>\n",
       "      <td>...</td>\n",
       "      <td>...</td>\n",
       "    </tr>\n",
       "    <tr>\n",
       "      <th>9</th>\n",
       "      <td>DETACHED_SERVICES___GOVERMENT_SECURITY</td>\n",
       "      <td>4.164397</td>\n",
       "    </tr>\n",
       "    <tr>\n",
       "      <th>93</th>\n",
       "      <td>salary_1</td>\n",
       "      <td>3.454936</td>\n",
       "    </tr>\n",
       "    <tr>\n",
       "      <th>92</th>\n",
       "      <td>officer_age</td>\n",
       "      <td>2.440342</td>\n",
       "    </tr>\n",
       "    <tr>\n",
       "      <th>86</th>\n",
       "      <td>ON</td>\n",
       "      <td>1.826083</td>\n",
       "    </tr>\n",
       "    <tr>\n",
       "      <th>81</th>\n",
       "      <td>MALE</td>\n",
       "      <td>1.051903</td>\n",
       "    </tr>\n",
       "  </tbody>\n",
       "</table>\n",
       "<p>97 rows × 2 columns</p>\n",
       "</div>"
      ],
      "text/plain": [
       "                                   feature           VIF\n",
       "0                                    const  22062.261156\n",
       "91                          POLICE_OFFICER   2139.120552\n",
       "90                         PO_AS_DETECTIVE   1944.288618\n",
       "85                                   WHITE    841.181123\n",
       "83                                   BLACK    671.560549\n",
       "..                                     ...           ...\n",
       "9   DETACHED_SERVICES___GOVERMENT_SECURITY      4.164397\n",
       "93                                salary_1      3.454936\n",
       "92                             officer_age      2.440342\n",
       "86                                      ON      1.826083\n",
       "81                                    MALE      1.051903\n",
       "\n",
       "[97 rows x 2 columns]"
      ]
     },
     "execution_count": 45,
     "metadata": {},
     "output_type": "execute_result"
    }
   ],
   "source": [
    "find_VIF(full_df.drop('y', axis=1))"
   ]
  },
  {
   "cell_type": "code",
   "execution_count": 42,
   "id": "5fd19ae4-986d-48ac-991e-e431fe8948d5",
   "metadata": {
    "tags": []
   },
   "outputs": [
    {
     "data": {
      "image/png": "[encoded data removed]",
      "text/plain": [
       "<Figure size 432x288 with 1 Axes>"
      ]
     },
     "metadata": {
      "needs_background": "light"
     },
     "output_type": "display_data"
    }
   ],
   "source": [
    "plt.bar(vif.iloc[1:,0], vif.iloc[1:,1])\n",
    "plt.xticks([], [])\n",
    "plt.xlabel('Predictors')\n",
    "plt.ylabel('VIF')\n",
    "plt.show()"
   ]
  },
  {
   "cell_type": "code",
   "execution_count": 43,
   "id": "1e7db74c-202d-4ba1-9f91-f9774cb033cc",
   "metadata": {},
   "outputs": [
    {
     "name": "stdout",
     "output_type": "stream",
     "text": [
      "The 3 predictors with the highest VIF are: Operation_Personnel_Violations , Use_of_Force , Illegal_Search\n"
     ]
    }
   ],
   "source": [
    "print('The 3 predictors with the highest VIF are:', vif.iloc[1,0],',',vif.iloc[2,0],',',vif.iloc[3,0])"
   ]
  },
  {
   "cell_type": "markdown",
   "id": "ae389df2-017e-4dbb-8cc9-6884a24b1e4a",
   "metadata": {},
   "source": [
    "The predictors only have moderate multicollinearity, indicating that the back selected model is stable and, crucially, that the p-values of the predictors come from precise estimates of their standard errors."
   ]
  },
  {
   "cell_type": "markdown",
   "id": "19dc242d",
   "metadata": {},
   "source": [
    "Inference 4"
   ]
  },
  {
   "cell_type": "code",
   "execution_count": 14,
   "id": "fdaa144c",
   "metadata": {},
   "outputs": [
    {
     "name": "stderr",
     "output_type": "stream",
     "text": [
      "/var/folders/4b/sl3y8zds5g52xl7kl2dsn52w0000gn/T/ipykernel_20644/75206399.py:1: DtypeWarning: Columns (24) have mixed types. Specify dtype option on import or set low_memory=False.\n",
      "  getsust = pd.read_csv('officers_only.csv')\n"
     ]
    }
   ],
   "source": [
    "getsust = pd.read_csv('officers_only.csv')\n",
    "df = pd.read_csv('cleaned_data.csv')\n",
    "\n",
    "full_df = pd.concat([df, getsust[['sustained']]], axis=1)\n",
    "\n",
    "sust_only = full_df.loc[full_df['sustained'] == 1]\n",
    "sust_only = sust_only.drop(columns = {'sustained'})\n",
    "sust_only = sust_only.drop(columns = {'Unnamed: 0'})"
   ]
  },
  {
   "cell_type": "code",
   "execution_count": 15,
   "id": "445e5cf7",
   "metadata": {},
   "outputs": [
    {
     "data": {
      "text/plain": [
       "0.0029363933065947416"
      ]
     },
     "execution_count": 15,
     "metadata": {},
     "output_type": "execute_result"
    }
   ],
   "source": [
    "#Dataframe showing the correlation of each columnn with the target variable\n",
    "y_df = pd.DataFrame(sust_only.corr()[\"y\"]).sort_values(by = 'y', ascending = False)\n",
    "\n",
    "\n",
    "# Lasso Regression\n",
    "q = list(sust_only.columns)\n",
    "q.remove('y')\n",
    "G = sust_only[q]\n",
    "\n",
    "alphas = 10**np.linspace(0,-4,200)*0.5\n",
    "\n",
    "#Define scaler\n",
    "scaler = StandardScaler()\n",
    "scaler.fit(G)\n",
    "Gstd = scaler.transform(G)\n",
    "targ = sust_only.y\n",
    "\n",
    "lassocv = LassoCV(alphas = alphas, cv = 10, max_iter = 100000)\n",
    "lassocv.fit(Gstd, targ)\n",
    "lassocv.alpha_"
   ]
  },
  {
   "cell_type": "code",
   "execution_count": 16,
   "id": "f8bf8cb8",
   "metadata": {},
   "outputs": [],
   "source": [
    "lasso = Lasso(alpha = lassocv.alpha_)\n",
    "lasso.fit(Gstd, targ)\n",
    "\n",
    "# create a dataframe with the coefficients from the lasso regression\n",
    "coefdf = pd.concat([pd.Series(G.columns), pd.Series(lasso.coef_)],axis=1).sort_values(by = 1, ascending = True)"
   ]
  },
  {
   "cell_type": "code",
   "execution_count": 17,
   "id": "ac8e22d6",
   "metadata": {},
   "outputs": [],
   "source": [
    "def vif(X):\n",
    "    X = add_constant(X)\n",
    "    vif_data = pd.DataFrame()\n",
    "    vif_data[\"feature\"] = X.columns\n",
    "    \n",
    "    for i in range(len(X.columns)):\n",
    "        vif_data.loc[i, 'VIF'] = variance_inflation_factor(X.values, i)\n",
    "        \n",
    "    return(vif_data)"
   ]
  },
  {
   "cell_type": "code",
   "execution_count": 19,
   "id": "ac660e7a",
   "metadata": {},
   "outputs": [],
   "source": [
    "# use VIF to determine and remove multicollinear predictors\n",
    "l = coefdf.iloc[:, 0].tolist()\n",
    "lass = sust_only[l]\n",
    "\n",
    "#drop rows with over 5 VIF\n",
    "viflassdf = vif(lass)\n",
    "new = viflassdf[viflassdf['VIF'] <= 5]"
   ]
  },
  {
   "cell_type": "markdown",
   "id": "acab331a",
   "metadata": {},
   "source": [
    "## Developing the model"
   ]
  },
  {
   "cell_type": "markdown",
   "id": "ae5ec4c9",
   "metadata": {},
   "source": [
    "Put code with comments. The comments should explain the code such that it can be easily understood. You may put text *(in a markdown cell)* before a large chunk of code to explain the overall purpose of the code, if it is not intuitive. **Put the name of the person / persons who contributed to each code chunk / set of code chunks.**"
   ]
  },
  {
   "cell_type": "markdown",
   "id": "6444e611",
   "metadata": {},
   "source": [
    "### Code fitting the final model"
   ]
  },
  {
   "cell_type": "markdown",
   "id": "f6cae72f",
   "metadata": {},
   "source": [
    "Put the code(s) that fit the final model(s) in separate cell(s), i.e., the code with the `.ols()` or `.logit()` functions."
   ]
  },
  {
   "cell_type": "markdown",
   "id": "62a185cb",
   "metadata": {},
   "source": [
    "## Conclusions and Recommendations to stakeholder(s)\n",
    "\n",
    "You may or may not have code to put in this section. Delete this section if it is irrelevant."
   ]
  }
 ],
 "metadata": {
  "kernelspec": {
   "display_name": "Python 3 (ipykernel)",
   "language": "python",
   "name": "python3"
  },
  "language_info": {
   "codemirror_mode": {
    "name": "ipython",
    "version": 3
   },
   "file_extension": ".py",
   "mimetype": "text/x-python",
   "name": "python",
   "nbconvert_exporter": "python",
   "pygments_lexer": "ipython3",
   "version": "3.9.12"
  }
 },
 "nbformat": 4,
 "nbformat_minor": 5
}
